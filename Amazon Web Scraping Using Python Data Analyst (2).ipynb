{
 "cells": [
  {
   "cell_type": "code",
   "execution_count": 49,
   "id": "1940bebb",
   "metadata": {},
   "outputs": [],
   "source": [
    "#import libraries\n",
    "from bs4 import BeautifulSoup\n",
    "import requests\n",
    "import smtplib\n",
    "import time\n",
    "import datetime\n"
   ]
  },
  {
   "cell_type": "code",
   "execution_count": null,
   "id": "8d3213db",
   "metadata": {},
   "outputs": [],
   "source": [
    "def get_amazon_product_info(url):\n",
    "    headers = {\n",
    "        \"User-Agent\": \"Your User-Agent String\",\n",
    "    }\n",
    "\n",
    "    try:\n",
    "        # Send an HTTP GET request\n",
    "        response = requests.get(url, headers=headers)\n",
    "\n",
    "        # Check if the request was successful (status code 200)\n",
    "        if response.status_code == 200:\n",
    "            soup = BeautifulSoup(response.text, 'html.parser')\n",
    "\n",
    "            # Extract product title\n",
    "            title_element = soup.find('span', {'class':'a-size-large product-title-word-break'})\n",
    "            title = title_element.text.strip() if title_element else \"Title not found\"\n",
    "\n",
    "            # Extract product price\n",
    "            price_element = soup.find('span', {'class':'a-price-whole'})\n",
    "            price = price_element.text.strip() if price_element else \"Price not found\"\n",
    "\n",
    "\n",
    "            print(\"Product Title:\", title)\n",
    "            print(\"Product Price:\", price)\n",
    "            \n",
    "        \n",
    "        else:\n",
    "            print(\"Failed to retrieve the webpage. Status code:\", response.status_code)\n",
    "\n",
    "    except Exception as e:\n",
    "        print(\"An error occurred:\", str(e))\n",
    "\n",
    "# Example URL of an Amazon product page\n",
    "amazon_url = 'https://www.amazon.com/Funny-Data-Systems-Business-Analyst/dp/B07FNW9FGJ/ref=sr_1_3?dchild=1&keywords=data%2Banalyst%2Btshirt&qid=1626655184&sr=8-3&customId=B0752XJYNL&th=1'\n",
    "\n",
    "# Call the function with the Amazon URL\n",
    "get_amazon_product_info(amazon_url)\n"
   ]
  },
  {
   "cell_type": "code",
   "execution_count": null,
   "id": "9586055f",
   "metadata": {},
   "outputs": [],
   "source": [
    "#create, insert this data to csv ,doing automated in background \n",
    "# Create a CSV file and insert the data\n",
    "import csv\n",
    "if title and price:\n",
    "    header = ['Title','Price','Date']\n",
    "    data = [title, price , today]\n",
    "    \n",
    "    csv_file = 'AmazonProductInfo.csv'\n",
    "\n",
    "\n",
    "    with open(csv_file,'w',newline='',encoding='UTF8') as f:#creating csv\n",
    "        writer=csv.writer(f)#creating csv\n",
    "        writer.writerow(header)#inserting data\n",
    "        writer.writerow(data)\n",
    "    \n",
    "    print(f'Data has been written to {csv_file}')\n",
    "else:\n",
    "    print('Product information not available, no CSV created.')\n",
    "\n",
    "        "
   ]
  },
  {
   "cell_type": "code",
   "execution_count": 55,
   "id": "c79b979c",
   "metadata": {},
   "outputs": [
    {
     "name": "stdout",
     "output_type": "stream",
     "text": [
      "2023-09-15\n"
     ]
    }
   ],
   "source": [
    "import datetime\n",
    "today=datetime.date.today()\n",
    "print(today)"
   ]
  },
  {
   "cell_type": "code",
   "execution_count": 58,
   "id": "e18181ba",
   "metadata": {},
   "outputs": [
    {
     "name": "stdout",
     "output_type": "stream",
     "text": [
      "           Title          Price\n",
      "0  Product Title  Product Price\n"
     ]
    }
   ],
   "source": [
    "import pandas as pd\n",
    "df = pd.read_csv(r'C:\\Users\\Admin\\AmazonProductInfo.csv')\n",
    "print(df)"
   ]
  },
  {
   "cell_type": "code",
   "execution_count": 65,
   "id": "1fd4f95c",
   "metadata": {},
   "outputs": [
    {
     "name": "stdout",
     "output_type": "stream",
     "text": [
      "Data has been written to AmazonProductInfo.csv\n"
     ]
    }
   ],
   "source": [
    "#(appending data to csv)\n",
    "import csv\n",
    "if title and price:\n",
    "    header = ['Title','Price','Date']\n",
    "    data = [title, price , today]\n",
    "    \n",
    "    csv_file = 'AmazonProductInfo.csv'\n",
    "\n",
    "\n",
    "    with open(csv_file,'w',newline='',encoding='UTF8') as f:#creating csv\n",
    "        writer=csv.writer(f)#creating csv\n",
    "        writer.writerow(header)#inserting data\n",
    "        writer.writerow(data)\n",
    "    \n",
    "    print(f'Data has been written to {csv_file}')\n",
    "else:\n",
    "    print('Product information not available, no CSV created.')\n",
    "    "
   ]
  },
  {
   "cell_type": "code",
   "execution_count": 67,
   "id": "a0e89a73",
   "metadata": {},
   "outputs": [],
   "source": [
    "#Now we are appending data to the csv\n",
    "\n",
    "with open('AmazonProductInfo.csv', 'a+', newline='', encoding='UTF8') as f:\n",
    "    writer = csv.writer(f)\n",
    "    writer.writerow(data)\n"
   ]
  },
  {
   "cell_type": "code",
   "execution_count": 73,
   "id": "077208cd",
   "metadata": {},
   "outputs": [
    {
     "name": "stdout",
     "output_type": "stream",
     "text": [
      "Product Title: Title not found\n",
      "Product Price: Price not found\n",
      "Data has been written to AmazonProductInfo.csv\n"
     ]
    }
   ],
   "source": [
    "def check_price():\n",
    "    def get_amazon_product_info(url):\n",
    "        headers = {\n",
    "        \"User-Agent\": \"Your User-Agent String\",\n",
    "    }\n",
    "\n",
    "    try:\n",
    "        # Send an HTTP GET request\n",
    "        response = requests.get(url, headers=headers)\n",
    "\n",
    "        # Check if the request was successful (status code 200)\n",
    "        if response.status_code == 200:\n",
    "            soup = BeautifulSoup(response.text, 'html.parser')\n",
    "\n",
    "            # Extract product title\n",
    "            title_element = soup.find('span', {'class':'a-size-large product-title-word-break'})\n",
    "            title = title_element.text.strip() if title_element else \"Title not found\"\n",
    "\n",
    "            # Extract product price\n",
    "            price_element = soup.find('span', {'class':'a-price-whole'})\n",
    "            price = price_element.text.strip() if price_element else \"Price not found\"\n",
    "\n",
    "\n",
    "            print(\"Product Title:\", title)\n",
    "            print(\"Product Price:\", price)\n",
    "            \n",
    "        \n",
    "        else:\n",
    "            print(\"Failed to retrieve the webpage. Status code:\", response.status_code)\n",
    "\n",
    "    except Exception as e:\n",
    "        print(\"An error occurred:\", str(e))\n",
    "\n",
    "# Example URL of an Amazon product page\n",
    "amazon_url = 'https://www.amazon.com/Funny-Data-Systems-Business-Analyst/dp/B07FNW9FGJ/ref=sr_1_3?dchild=1&keywords=data%2Banalyst%2Btshirt&qid=1626655184&sr=8-3&customId=B0752XJYNL&th=1'\n",
    "\n",
    "# Call the function with the Amazon URL\n",
    "get_amazon_product_info(amazon_url)\n",
    "\n",
    "\n",
    "import datetime\n",
    "today=datetime.date.today()\n",
    "   \n",
    "\n",
    "import csv\n",
    "if title and price:\n",
    "    header = ['Title','Price','Date']\n",
    "    data = [title, price , today]\n",
    "    \n",
    "    csv_file = 'AmazonProductInfo.csv'\n",
    "\n",
    "    with open(csv_file,'w',newline='',encoding='UTF8') as f:#creating csv\n",
    "        writer=csv.writer(f)#creating csv\n",
    "        writer.writerow(header)#inserting data\n",
    "        writer.writerow(data)\n",
    "    \n",
    "    print(f'Data has been written to {csv_file}')\n",
    "else:\n",
    "    print('Product information not available, no CSV created.')\n",
    "    \n",
    "#Now we are appending data to the csv\n",
    "\n",
    "with open('AmazonProductInfo.csv', 'a+', newline='', encoding='UTF8') as f:\n",
    "    writer = csv.writer(f)\n",
    "    writer.writerow(data)\n",
    "    "
   ]
  },
  {
   "cell_type": "code",
   "execution_count": null,
   "id": "438a5b01",
   "metadata": {},
   "outputs": [],
   "source": [
    "while(True):\n",
    "    check_price()\n",
    "    time.sleep(86400)"
   ]
  },
  {
   "cell_type": "code",
   "execution_count": null,
   "id": "5f66a2b5",
   "metadata": {},
   "outputs": [],
   "source": [
    "import pandas as pd\n",
    "\n",
    "df = pd.read_csv(r'C:\\Users\\Admin\\AmazonProductInfo.csv')\n",
    "\n",
    "print(df)"
   ]
  },
  {
   "cell_type": "code",
   "execution_count": null,
   "id": "ae0783c6",
   "metadata": {},
   "outputs": [],
   "source": []
  }
 ],
 "metadata": {
  "kernelspec": {
   "display_name": "Python 3 (ipykernel)",
   "language": "python",
   "name": "python3"
  },
  "language_info": {
   "codemirror_mode": {
    "name": "ipython",
    "version": 3
   },
   "file_extension": ".py",
   "mimetype": "text/x-python",
   "name": "python",
   "nbconvert_exporter": "python",
   "pygments_lexer": "ipython3",
   "version": "3.11.4"
  }
 },
 "nbformat": 4,
 "nbformat_minor": 5
}
