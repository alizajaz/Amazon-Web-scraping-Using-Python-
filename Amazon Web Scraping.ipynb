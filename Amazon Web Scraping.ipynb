{
 "cells": [
  {
   "cell_type": "code",
   "execution_count": 1,
   "id": "54887ac7",
   "metadata": {},
   "outputs": [],
   "source": [
    "#import libraries\n",
    "from bs4 import BeautifulSoup\n",
    "import requests\n",
    "import smtplib\n",
    "import time\n",
    "import datetime\n"
   ]
  },
  {
   "cell_type": "code",
   "execution_count": 33,
   "id": "ced255a8",
   "metadata": {},
   "outputs": [
    {
     "name": "stdout",
     "output_type": "stream",
     "text": [
      "Product Title: Funny Got Data MIS Data Systems Business Analyst T-Shirt\n",
      "Product Price: 16.\n"
     ]
    }
   ],
   "source": [
    "def get_amazon_product_info(url):\n",
    "    headers = {\n",
    "        \"User-Agent\": \"Your User-Agent String\",\n",
    "    }\n",
    "\n",
    "    try:\n",
    "        # Send an HTTP GET request\n",
    "        response = requests.get(url, headers=headers)\n",
    "\n",
    "        # Check if the request was successful (status code 200)\n",
    "        if response.status_code == 200:\n",
    "            soup = BeautifulSoup(response.text, 'html.parser')\n",
    "\n",
    "            # Extract product title\n",
    "            title_element = soup.find('span', {'class':'a-size-large product-title-word-break'})\n",
    "            title = title_element.text.strip() if title_element else \"Title not found\"\n",
    "\n",
    "            # Extract product price\n",
    "            price_element = soup.find('span', {'class':'a-price-whole'})\n",
    "            price = price_element.text.strip() if price_element else \"Price not found\"\n",
    "\n",
    "\n",
    "            print(\"Product Title:\", title)\n",
    "            print(\"Product Price:\", price)\n",
    "            \n",
    "        \n",
    "        else:\n",
    "            print(\"Failed to retrieve the webpage. Status code:\", response.status_code)\n",
    "\n",
    "    except Exception as e:\n",
    "        print(\"An error occurred:\", str(e))\n",
    "\n",
    "# Example URL of an Amazon product page\n",
    "amazon_url = 'https://www.amazon.com/Funny-Data-Systems-Business-Analyst/dp/B07FNW9FGJ/ref=sr_1_3?dchild=1&keywords=data%2Banalyst%2Btshirt&qid=1626655184&sr=8-3&customId=B0752XJYNL&th=1'\n",
    "\n",
    "# Call the function with the Amazon URL\n",
    "get_amazon_product_info(amazon_url)\n",
    "\n"
   ]
  },
  {
   "cell_type": "code",
   "execution_count": null,
   "id": "c09980de",
   "metadata": {},
   "outputs": [],
   "source": []
  },
  {
   "cell_type": "code",
   "execution_count": null,
   "id": "9d558c5c",
   "metadata": {},
   "outputs": [],
   "source": []
  },
  {
   "cell_type": "code",
   "execution_count": null,
   "id": "7acc22b3",
   "metadata": {},
   "outputs": [],
   "source": []
  },
  {
   "cell_type": "code",
   "execution_count": null,
   "id": "b06787a7",
   "metadata": {},
   "outputs": [],
   "source": []
  }
 ],
 "metadata": {
  "kernelspec": {
   "display_name": "Python 3 (ipykernel)",
   "language": "python",
   "name": "python3"
  },
  "language_info": {
   "codemirror_mode": {
    "name": "ipython",
    "version": 3
   },
   "file_extension": ".py",
   "mimetype": "text/x-python",
   "name": "python",
   "nbconvert_exporter": "python",
   "pygments_lexer": "ipython3",
   "version": "3.11.4"
  }
 },
 "nbformat": 4,
 "nbformat_minor": 5
}
